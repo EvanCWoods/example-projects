{
  "nbformat": 4,
  "nbformat_minor": 0,
  "metadata": {
    "colab": {
      "name": "Final-windowing-example.ipynb",
      "provenance": [],
      "authorship_tag": "ABX9TyPAp21s/ZNiMNION8PLcJi5"
    },
    "kernelspec": {
      "name": "python3",
      "display_name": "Python 3"
    },
    "language_info": {
      "name": "python"
    }
  },
  "cells": [
    {
      "cell_type": "code",
      "metadata": {
        "id": "HUQIongq_iHp"
      },
      "source": [
        "import tensorflow as tf\n",
        "import numpy as np\n",
        "import pandas as pd\n",
        "import csv\n",
        "import matplotlib.pyplot as plt\n",
        "from tensorflow.keras.preprocessing.sequence import TimeseriesGenerator"
      ],
      "execution_count": null,
      "outputs": []
    },
    {
      "cell_type": "code",
      "metadata": {
        "id": "rNct-Lk6Bm_B"
      },
      "source": [
        "data = []\n",
        "time = []\n",
        "\n",
        "with open('/content/Sunspots.csv') as csvfile:\n",
        "  reader = csv.reader(csvfile)\n",
        "  next(reader)\n",
        "  for row in reader:\n",
        "    data.append(float(row[2]))\n",
        "    time.append(int(row[0]))\n",
        "\n",
        "data = np.array(data)\n",
        "time = np.array(time)"
      ],
      "execution_count": null,
      "outputs": []
    },
    {
      "cell_type": "code",
      "metadata": {
        "id": "7egsjj3tBImt"
      },
      "source": [
        "split_point = 2900\n",
        "train_data = data[:split_point]\n",
        "train_time = time[:split_point]\n",
        "test_data = data[split_point:]\n",
        "test_time = time[split_point:]"
      ],
      "execution_count": null,
      "outputs": []
    },
    {
      "cell_type": "code",
      "metadata": {
        "id": "JS9lOyJ4CUyi"
      },
      "source": [
        "train_features = tf.expand_dims(train_data, axis=-1)\n",
        "train_targets = tf.expand_dims(train_data, axis=-1)\n",
        "test_features = tf.expand_dims(test_data, axis=-1)\n",
        "test_targets = tf.expand_dims(test_data, axis=-1)"
      ],
      "execution_count": null,
      "outputs": []
    },
    {
      "cell_type": "code",
      "metadata": {
        "id": "UfwO2qAhCqpo"
      },
      "source": [
        "length = 11\n",
        "sampling_rate = 1\n",
        "batch_size = 128"
      ],
      "execution_count": null,
      "outputs": []
    },
    {
      "cell_type": "code",
      "metadata": {
        "id": "DqPlZZgcCfSm"
      },
      "source": [
        "train_generator = TimeseriesGenerator(train_features, train_targets, length=length, sampling_rate=sampling_rate, batch_size=batch_size)\n",
        "test_generator = TimeseriesGenerator(test_features, test_targets, length=length, sampling_rate=sampling_rate, batch_size=batch_size)"
      ],
      "execution_count": null,
      "outputs": []
    },
    {
      "cell_type": "code",
      "metadata": {
        "colab": {
          "base_uri": "https://localhost:8080/"
        },
        "id": "oAUVyfOfDH5e",
        "outputId": "414e8c12-2053-4d86-8359-851be519849f"
      },
      "source": [
        "model = tf.keras.Sequential([\n",
        "  tf.keras.layers.Conv1D(filters=64, kernel_size=5, padding='causal', activation='relu', input_shape=[None, 1]),\n",
        "  tf.keras.layers.Bidirectional(tf.keras.layers.LSTM(64, return_sequences=True)),\n",
        "  tf.keras.layers.Bidirectional(tf.keras.layers.LSTM(64, return_sequences=True)),\n",
        "  tf.keras.layers.LSTM(64),\n",
        "  tf.keras.layers.Dense(64, activation='relu'),\n",
        "  tf.keras.layers.Dense(32, activation='relu'),\n",
        "  tf.keras.layers.Dense(1)\n",
        "])\n",
        "\n",
        "model.compile(loss='mae',\n",
        "              optimizer='adam',\n",
        "              metrics='mae')\n",
        "\n",
        "history = model.fit(train_generator, epochs=25)"
      ],
      "execution_count": null,
      "outputs": [
        {
          "output_type": "stream",
          "text": [
            "Epoch 1/25\n",
            "23/23 [==============================] - 11s 117ms/step - loss: 79.6368 - mae: 79.6368\n",
            "Epoch 2/25\n",
            "23/23 [==============================] - 3s 115ms/step - loss: 69.5949 - mae: 69.5949\n",
            "Epoch 3/25\n",
            "23/23 [==============================] - 3s 118ms/step - loss: 57.6709 - mae: 57.6709\n",
            "Epoch 4/25\n",
            "23/23 [==============================] - 3s 116ms/step - loss: 40.1564 - mae: 40.1564\n",
            "Epoch 5/25\n",
            "23/23 [==============================] - 3s 115ms/step - loss: 29.2460 - mae: 29.2460\n",
            "Epoch 6/25\n",
            "23/23 [==============================] - 3s 116ms/step - loss: 23.6613 - mae: 23.6613\n",
            "Epoch 7/25\n",
            "23/23 [==============================] - 3s 116ms/step - loss: 22.6180 - mae: 22.6180\n",
            "Epoch 8/25\n",
            "23/23 [==============================] - 3s 116ms/step - loss: 23.3519 - mae: 23.3519\n",
            "Epoch 9/25\n",
            "23/23 [==============================] - 3s 116ms/step - loss: 21.7090 - mae: 21.7090\n",
            "Epoch 10/25\n",
            "23/23 [==============================] - 3s 115ms/step - loss: 21.9821 - mae: 21.9821\n",
            "Epoch 11/25\n",
            "23/23 [==============================] - 3s 117ms/step - loss: 20.8343 - mae: 20.8343\n",
            "Epoch 12/25\n",
            "23/23 [==============================] - 3s 115ms/step - loss: 19.3482 - mae: 19.3482\n",
            "Epoch 13/25\n",
            "23/23 [==============================] - 3s 115ms/step - loss: 19.1873 - mae: 19.1873\n",
            "Epoch 14/25\n",
            "23/23 [==============================] - 3s 119ms/step - loss: 19.6883 - mae: 19.6883\n",
            "Epoch 15/25\n",
            "23/23 [==============================] - 3s 117ms/step - loss: 18.7984 - mae: 18.7984\n",
            "Epoch 16/25\n",
            "23/23 [==============================] - 3s 116ms/step - loss: 18.1956 - mae: 18.1956\n",
            "Epoch 17/25\n",
            "23/23 [==============================] - 3s 115ms/step - loss: 18.2979 - mae: 18.2979\n",
            "Epoch 18/25\n",
            "23/23 [==============================] - 3s 115ms/step - loss: 18.3555 - mae: 18.3555\n",
            "Epoch 19/25\n",
            "23/23 [==============================] - 3s 118ms/step - loss: 18.5122 - mae: 18.5122\n",
            "Epoch 20/25\n",
            "23/23 [==============================] - 3s 117ms/step - loss: 19.7308 - mae: 19.7308\n",
            "Epoch 21/25\n",
            "23/23 [==============================] - 3s 116ms/step - loss: 18.2352 - mae: 18.2352\n",
            "Epoch 22/25\n",
            "23/23 [==============================] - 3s 116ms/step - loss: 18.2267 - mae: 18.2267\n",
            "Epoch 23/25\n",
            "23/23 [==============================] - 3s 117ms/step - loss: 19.0960 - mae: 19.0960\n",
            "Epoch 24/25\n",
            "23/23 [==============================] - 3s 117ms/step - loss: 18.0239 - mae: 18.0239\n",
            "Epoch 25/25\n",
            "23/23 [==============================] - 3s 119ms/step - loss: 17.6748 - mae: 17.6748\n"
          ],
          "name": "stdout"
        }
      ]
    },
    {
      "cell_type": "code",
      "metadata": {
        "id": "oaRnoQX3D7dG"
      },
      "source": [
        "predictions = model.predict(test_generator)\n",
        "predictions = tf.squeeze(predictions, axis=-1)"
      ],
      "execution_count": null,
      "outputs": []
    },
    {
      "cell_type": "code",
      "metadata": {
        "colab": {
          "base_uri": "https://localhost:8080/",
          "height": 282
        },
        "id": "YaK7HIDdESch",
        "outputId": "21bd9138-61c0-442d-9ba0-1c3d1aaab4a4"
      },
      "source": [
        "plt.plot(test_time, test_data, c='b')\n",
        "plt.plot(test_time[:354], predictions, c='r')"
      ],
      "execution_count": null,
      "outputs": [
        {
          "output_type": "execute_result",
          "data": {
            "text/plain": [
              "[<matplotlib.lines.Line2D at 0x7f42a445df90>]"
            ]
          },
          "metadata": {
            "tags": []
          },
          "execution_count": 78
        },
        {
          "output_type": "display_data",
          "data": {
            "image/png": "[encoded data removed]",
            "text/plain": [
              "<Figure size 432x288 with 1 Axes>"
            ]
          },
          "metadata": {
            "tags": [],
            "needs_background": "light"
          }
        }
      ]
    },
    {
      "cell_type": "code",
      "metadata": {
        "id": "wXKtDOmEEsbo"
      },
      "source": [
        ""
      ],
      "execution_count": null,
      "outputs": []
    }
  ]
}