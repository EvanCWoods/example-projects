{
  "nbformat": 4,
  "nbformat_minor": 0,
  "metadata": {
    "colab": {
      "name": "example-mnist.ipynb",
      "provenance": [],
      "authorship_tag": "ABX9TyMQxLHMfV2WJUQaWzATWLKL"
    },
    "kernelspec": {
      "name": "python3",
      "display_name": "Python 3"
    },
    "language_info": {
      "name": "python"
    }
  },
  "cells": [
    {
      "cell_type": "code",
      "metadata": {
        "id": "cG7houIgC3jD"
      },
      "source": [
        "import tensorflow as tf\n",
        "import numpy as np\n",
        "import matplotlib.pyplot as plt\n",
        "import random\n",
        "from tensorflow.keras.preprocessing.image import ImageDataGenerator"
      ],
      "execution_count": null,
      "outputs": []
    },
    {
      "cell_type": "code",
      "metadata": {
        "id": "YMv_Vl8DEaXS"
      },
      "source": [
        "(train_data, train_labels), (test_data, test_labels) = tf.keras.datasets.mnist.load_data()"
      ],
      "execution_count": null,
      "outputs": []
    },
    {
      "cell_type": "code",
      "metadata": {
        "colab": {
          "base_uri": "https://localhost:8080/"
        },
        "id": "LXwYL9f4EicR",
        "outputId": "7ef652b7-3c5c-44ea-a1e9-9c093abd1959"
      },
      "source": [
        "print(train_data.shape, train_labels.shape)\n",
        "print(test_data.shape, test_labels.shape)"
      ],
      "execution_count": null,
      "outputs": [
        {
          "output_type": "stream",
          "text": [
            "(60000, 28, 28) (60000,)\n",
            "(10000, 28, 28) (10000,)\n"
          ],
          "name": "stdout"
        }
      ]
    },
    {
      "cell_type": "code",
      "metadata": {
        "id": "eYbQghm8ExVU"
      },
      "source": [
        "train_data = train_data / 255\n",
        "test_data = test_data / 255"
      ],
      "execution_count": null,
      "outputs": []
    },
    {
      "cell_type": "code",
      "metadata": {
        "colab": {
          "base_uri": "https://localhost:8080/"
        },
        "id": "A9MZOCWbE2uI",
        "outputId": "13e6ee1f-c4b6-4fd8-ceed-14dc916b15b7"
      },
      "source": [
        "train_data = tf.expand_dims(train_data, axis=-1)\n",
        "test_data = tf.expand_dims(test_data, axis=-1)\n",
        "print(train_data.shape)\n",
        "print(test_data.shape)"
      ],
      "execution_count": null,
      "outputs": [
        {
          "output_type": "stream",
          "text": [
            "(60000, 28, 28, 1)\n",
            "(10000, 28, 28, 1)\n"
          ],
          "name": "stdout"
        }
      ]
    },
    {
      "cell_type": "code",
      "metadata": {
        "id": "yajSx7aWE7gZ"
      },
      "source": [
        "class MyCallback(tf.keras.callbacks.Callback):\n",
        "  def on_epoch_end(self, epoch, logs={}):\n",
        "    if logs.get('accuracy') > 0.97:\n",
        "      print('Stopping training')\n",
        "      self.model.stop_training = True\n",
        "\n",
        "callback = MyCallback()"
      ],
      "execution_count": null,
      "outputs": []
    },
    {
      "cell_type": "code",
      "metadata": {
        "colab": {
          "base_uri": "https://localhost:8080/"
        },
        "id": "wJQdlKBZFKx1",
        "outputId": "d40eb537-5e92-463f-d8af-2ec90e2070e7"
      },
      "source": [
        "model = tf.keras.Sequential([\n",
        "  tf.keras.layers.Conv2D(64, 3, activation='relu', input_shape=[28,28,1]),\n",
        "  tf.keras.layers.MaxPooling2D(2,2),\n",
        "  tf.keras.layers.Conv2D(64, 3, activation='relu'),\n",
        "  tf.keras.layers.MaxPooling2D(2,2),\n",
        "  tf.keras.layers.Flatten(),\n",
        "  tf.keras.layers.Dense(128, activation='relu'),\n",
        "  tf.keras.layers.Dense(64, activation='relu'),\n",
        "  tf.keras.layers.Dense(10, activation='softmax')\n",
        "])\n",
        "\n",
        "model.compile(loss='sparse_categorical_crossentropy',\n",
        "              optimizer='adam',\n",
        "              metrics=['accuracy'])\n",
        "\n",
        "history = model.fit(train_data, train_labels, epochs=3, callbacks=[callback])"
      ],
      "execution_count": null,
      "outputs": [
        {
          "output_type": "stream",
          "text": [
            "Epoch 1/3\n",
            "1875/1875 [==============================] - 81s 43ms/step - loss: 0.1294 - accuracy: 0.9603\n",
            "Epoch 2/3\n",
            "1875/1875 [==============================] - 80s 43ms/step - loss: 0.0445 - accuracy: 0.9862\n",
            "Stopping training\n"
          ],
          "name": "stdout"
        }
      ]
    },
    {
      "cell_type": "code",
      "metadata": {
        "id": "Rlo3EnJHGcUP"
      },
      "source": [
        "def predict(model, data, true):\n",
        "  i = random.randint(0,1000)\n",
        "  true = true[i]\n",
        "  data = np.array(data)\n",
        "  pred = model.predict(data[i].reshape(1, 28, 28, 1))\n",
        "  print('prediction: ', pred.argmax())\n",
        "  print('Real: ', true)\n",
        "  if pred.argmax() - true == 0:\n",
        "    print('Correct!')\n",
        "  else:\n",
        "    print('Incorrect!')"
      ],
      "execution_count": null,
      "outputs": []
    },
    {
      "cell_type": "code",
      "metadata": {
        "colab": {
          "base_uri": "https://localhost:8080/"
        },
        "id": "7Meya5J4Jr5c",
        "outputId": "446f3c52-b562-496b-c59c-03344abfaad3"
      },
      "source": [
        "predict(model=model, data=test_data, true=test_labels)"
      ],
      "execution_count": null,
      "outputs": [
        {
          "output_type": "stream",
          "text": [
            "prediction:  7\n",
            "Real:  7\n",
            "Correct!\n"
          ],
          "name": "stdout"
        }
      ]
    },
    {
      "cell_type": "code",
      "metadata": {
        "id": "ky2_VsyNOFAz"
      },
      "source": [
        ""
      ],
      "execution_count": null,
      "outputs": []
    }
  ]
}