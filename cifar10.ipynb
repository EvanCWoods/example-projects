{
  "nbformat": 4,
  "nbformat_minor": 0,
  "metadata": {
    "colab": {
      "name": "cifar10.ipynb",
      "provenance": [],
      "authorship_tag": "ABX9TyNsVXOjaT+TZqremcwA6H1N"
    },
    "kernelspec": {
      "name": "python3",
      "display_name": "Python 3"
    },
    "language_info": {
      "name": "python"
    }
  },
  "cells": [
    {
      "cell_type": "code",
      "metadata": {
        "id": "ViWwAFUmtGsR"
      },
      "source": [
        "import tensorflow as tf\n",
        "import tensorflow_datasets as tfds\n",
        "import numpy as np\n",
        "import random\n",
        "import matplotlib.pyplot as plt"
      ],
      "execution_count": 14,
      "outputs": []
    },
    {
      "cell_type": "code",
      "metadata": {
        "id": "cRaRcy53tnLk"
      },
      "source": [
        "train_ds, test_ds = tfds.load('cifar10', split=['train', 'test'], as_supervised=True)"
      ],
      "execution_count": 15,
      "outputs": []
    },
    {
      "cell_type": "code",
      "metadata": {
        "colab": {
          "base_uri": "https://localhost:8080/"
        },
        "id": "ZN8Qw2lmttQt",
        "outputId": "c1e87aaa-e225-47cf-eb41-6206bf1bf446"
      },
      "source": [
        "train_data = []\n",
        "train_labels = []\n",
        "\n",
        "for example, label in train_ds:\n",
        "  train_data.append(example.numpy())\n",
        "  train_labels.append(label.numpy())\n",
        "\n",
        "test_data = []\n",
        "test_labels = []\n",
        "\n",
        "for example, label in test_ds:\n",
        "  test_data.append(example.numpy())\n",
        "  test_labels.append(label.numpy())\n",
        "\n",
        "\n",
        "train_data = np.array(train_data)\n",
        "train_labels = np.array(train_labels)\n",
        "test_data = np.array(test_data)\n",
        "test_labels = np.array(test_labels)\n",
        "\n",
        "print(train_data.shape)\n",
        "print(train_labels.shape)\n",
        "print(test_data.shape)\n",
        "print(test_labels.shape)"
      ],
      "execution_count": 16,
      "outputs": [
        {
          "output_type": "stream",
          "text": [
            "(50000, 32, 32, 3)\n",
            "(50000,)\n",
            "(10000, 32, 32, 3)\n",
            "(10000,)\n"
          ],
          "name": "stdout"
        }
      ]
    },
    {
      "cell_type": "code",
      "metadata": {
        "id": "1DXC9YjIuVja"
      },
      "source": [
        "train_data = train_data / 255\n",
        "test_data = test_data / 255"
      ],
      "execution_count": 17,
      "outputs": []
    },
    {
      "cell_type": "code",
      "metadata": {
        "colab": {
          "base_uri": "https://localhost:8080/",
          "height": 298
        },
        "id": "TRC-pLB7usKH",
        "outputId": "e8c7106a-5303-4add-e9d6-43e860f6540d"
      },
      "source": [
        "plt.imshow(train_data[0])\n",
        "plt.title(train_labels[0])"
      ],
      "execution_count": 18,
      "outputs": [
        {
          "output_type": "execute_result",
          "data": {
            "text/plain": [
              "Text(0.5, 1.0, '7')"
            ]
          },
          "metadata": {
            "tags": []
          },
          "execution_count": 18
        },
        {
          "output_type": "display_data",
          "data": {
            "image/png": "[encoded data removed]",
            "text/plain": [
              "<Figure size 432x288 with 1 Axes>"
            ]
          },
          "metadata": {
            "tags": [],
            "needs_background": "light"
          }
        }
      ]
    },
    {
      "cell_type": "code",
      "metadata": {
        "colab": {
          "base_uri": "https://localhost:8080/"
        },
        "id": "NL6GcuN5wXIl",
        "outputId": "d0ab8c79-0f52-4d4e-e4cd-125041661788"
      },
      "source": [
        "model = tf.keras.Sequential([\n",
        "  tf.keras.layers.Conv2D(64, 3, activation='relu', input_shape=(32,32,3)),\n",
        "  tf.keras.layers.MaxPooling2D(2,2),\n",
        "  tf.keras.layers.Conv2D(64, 3, activation='relu'),\n",
        "  tf.keras.layers.MaxPooling2D(2,2),\n",
        "  tf.keras.layers.Conv2D(64, 3, activation='relu'),\n",
        "  tf.keras.layers.MaxPooling2D(2,2),\n",
        "  tf.keras.layers.Flatten(),\n",
        "  tf.keras.layers.Dense(128, activation='relu'),\n",
        "  tf.keras.layers.Dense(64, activation='relu'),\n",
        "  tf.keras.layers.Dense(32, activation='relu'),\n",
        "  tf.keras.layers.Dense(10, activation='softmax'),\n",
        "])\n",
        "\n",
        "model.compile(loss='sparse_categorical_crossentropy',\n",
        "              optimizer='adam',\n",
        "              metrics=['accuracy'])\n",
        "\n",
        "\n",
        "history = model.fit(train_data, train_labels,\n",
        "                    epochs=5)"
      ],
      "execution_count": 19,
      "outputs": [
        {
          "output_type": "stream",
          "text": [
            "Epoch 1/5\n",
            "1563/1563 [==============================] - 115s 73ms/step - loss: 1.6045 - accuracy: 0.4104\n",
            "Epoch 2/5\n",
            "1563/1563 [==============================] - 115s 74ms/step - loss: 1.2367 - accuracy: 0.5593\n",
            "Epoch 3/5\n",
            "1563/1563 [==============================] - 116s 74ms/step - loss: 1.0705 - accuracy: 0.6185\n",
            "Epoch 4/5\n",
            "1563/1563 [==============================] - 115s 74ms/step - loss: 0.9749 - accuracy: 0.6570\n",
            "Epoch 5/5\n",
            "1563/1563 [==============================] - 114s 73ms/step - loss: 0.9010 - accuracy: 0.6839\n"
          ],
          "name": "stdout"
        }
      ]
    },
    {
      "cell_type": "code",
      "metadata": {
        "id": "THv_vkjaxI5-"
      },
      "source": [
        "correct = [0]\n",
        "incorrect = [0]\n",
        "\n",
        "def predict(model, data, labels):\n",
        "\n",
        "  data = tf.reshape(data, (1, 32, 32, 3))\n",
        "\n",
        "  prediction = model.predict(data)\n",
        "  prediction = prediction.argmax()\n",
        "\n",
        "  print('Prediction: ', prediction)\n",
        "  print('Label: ', labels)\n",
        "\n",
        "  if prediction - labels == 0:\n",
        "    print('Correct!')\n",
        "    correct[0] += 1\n",
        "  else:\n",
        "    print('Incorrect!')\n",
        "    incorrect[0] += 1"
      ],
      "execution_count": 22,
      "outputs": []
    },
    {
      "cell_type": "code",
      "metadata": {
        "colab": {
          "base_uri": "https://localhost:8080/"
        },
        "id": "jqXO1YU2y-y5",
        "outputId": "ea00b53f-c559-4f17-91b2-26ce1bc97319"
      },
      "source": [
        "for _ in range(100):\n",
        "  i = random.randint(0, 10000)\n",
        "  predict(model=model, data=test_data[i], labels=test_labels[i])"
      ],
      "execution_count": 23,
      "outputs": [
        {
          "output_type": "stream",
          "text": [
            "Prediction:  6\n",
            "Label:  6\n",
            "Correct!\n",
            "Prediction:  8\n",
            "Label:  8\n",
            "Correct!\n",
            "Prediction:  9\n",
            "Label:  9\n",
            "Correct!\n",
            "Prediction:  2\n",
            "Label:  2\n",
            "Correct!\n",
            "Prediction:  3\n",
            "Label:  7\n",
            "Incorrect!\n",
            "Prediction:  5\n",
            "Label:  2\n",
            "Incorrect!\n",
            "Prediction:  2\n",
            "Label:  2\n",
            "Correct!\n",
            "Prediction:  5\n",
            "Label:  7\n",
            "Incorrect!\n",
            "Prediction:  9\n",
            "Label:  9\n",
            "Correct!\n",
            "Prediction:  1\n",
            "Label:  1\n",
            "Correct!\n",
            "Prediction:  5\n",
            "Label:  6\n",
            "Incorrect!\n",
            "Prediction:  9\n",
            "Label:  3\n",
            "Incorrect!\n",
            "Prediction:  2\n",
            "Label:  5\n",
            "Incorrect!\n",
            "Prediction:  3\n",
            "Label:  3\n",
            "Correct!\n",
            "Prediction:  7\n",
            "Label:  7\n",
            "Correct!\n",
            "Prediction:  6\n",
            "Label:  2\n",
            "Incorrect!\n",
            "Prediction:  1\n",
            "Label:  6\n",
            "Incorrect!\n",
            "Prediction:  0\n",
            "Label:  2\n",
            "Incorrect!\n",
            "Prediction:  7\n",
            "Label:  3\n",
            "Incorrect!\n",
            "Prediction:  0\n",
            "Label:  8\n",
            "Incorrect!\n",
            "Prediction:  1\n",
            "Label:  1\n",
            "Correct!\n",
            "Prediction:  7\n",
            "Label:  7\n",
            "Correct!\n",
            "Prediction:  1\n",
            "Label:  0\n",
            "Incorrect!\n",
            "Prediction:  1\n",
            "Label:  1\n",
            "Correct!\n",
            "Prediction:  2\n",
            "Label:  2\n",
            "Correct!\n",
            "Prediction:  4\n",
            "Label:  4\n",
            "Correct!\n",
            "Prediction:  7\n",
            "Label:  7\n",
            "Correct!\n",
            "Prediction:  0\n",
            "Label:  8\n",
            "Incorrect!\n",
            "Prediction:  0\n",
            "Label:  0\n",
            "Correct!\n",
            "Prediction:  4\n",
            "Label:  7\n",
            "Incorrect!\n",
            "Prediction:  2\n",
            "Label:  5\n",
            "Incorrect!\n",
            "Prediction:  8\n",
            "Label:  8\n",
            "Correct!\n",
            "Prediction:  0\n",
            "Label:  0\n",
            "Correct!\n",
            "Prediction:  4\n",
            "Label:  4\n",
            "Correct!\n",
            "Prediction:  8\n",
            "Label:  1\n",
            "Incorrect!\n",
            "Prediction:  4\n",
            "Label:  4\n",
            "Correct!\n",
            "Prediction:  5\n",
            "Label:  7\n",
            "Incorrect!\n",
            "Prediction:  4\n",
            "Label:  4\n",
            "Correct!\n",
            "Prediction:  5\n",
            "Label:  6\n",
            "Incorrect!\n",
            "Prediction:  9\n",
            "Label:  9\n",
            "Correct!\n",
            "Prediction:  6\n",
            "Label:  6\n",
            "Correct!\n",
            "Prediction:  9\n",
            "Label:  9\n",
            "Correct!\n",
            "Prediction:  9\n",
            "Label:  9\n",
            "Correct!\n",
            "Prediction:  5\n",
            "Label:  5\n",
            "Correct!\n",
            "Prediction:  8\n",
            "Label:  4\n",
            "Incorrect!\n",
            "Prediction:  8\n",
            "Label:  8\n",
            "Correct!\n",
            "Prediction:  9\n",
            "Label:  9\n",
            "Correct!\n",
            "Prediction:  5\n",
            "Label:  3\n",
            "Incorrect!\n",
            "Prediction:  1\n",
            "Label:  1\n",
            "Correct!\n",
            "Prediction:  3\n",
            "Label:  4\n",
            "Incorrect!\n",
            "Prediction:  5\n",
            "Label:  5\n",
            "Correct!\n",
            "Prediction:  8\n",
            "Label:  8\n",
            "Correct!\n",
            "Prediction:  8\n",
            "Label:  0\n",
            "Incorrect!\n",
            "Prediction:  2\n",
            "Label:  6\n",
            "Incorrect!\n",
            "Prediction:  5\n",
            "Label:  5\n",
            "Correct!\n",
            "Prediction:  9\n",
            "Label:  9\n",
            "Correct!\n",
            "Prediction:  1\n",
            "Label:  1\n",
            "Correct!\n",
            "Prediction:  5\n",
            "Label:  7\n",
            "Incorrect!\n",
            "Prediction:  0\n",
            "Label:  0\n",
            "Correct!\n",
            "Prediction:  0\n",
            "Label:  3\n",
            "Incorrect!\n",
            "Prediction:  1\n",
            "Label:  1\n",
            "Correct!\n",
            "Prediction:  5\n",
            "Label:  2\n",
            "Incorrect!\n",
            "Prediction:  5\n",
            "Label:  3\n",
            "Incorrect!\n",
            "Prediction:  1\n",
            "Label:  1\n",
            "Correct!\n",
            "Prediction:  4\n",
            "Label:  4\n",
            "Correct!\n",
            "Prediction:  4\n",
            "Label:  4\n",
            "Correct!\n",
            "Prediction:  0\n",
            "Label:  0\n",
            "Correct!\n",
            "Prediction:  2\n",
            "Label:  8\n",
            "Incorrect!\n",
            "Prediction:  2\n",
            "Label:  7\n",
            "Incorrect!\n",
            "Prediction:  6\n",
            "Label:  4\n",
            "Incorrect!\n",
            "Prediction:  2\n",
            "Label:  3\n",
            "Incorrect!\n",
            "Prediction:  5\n",
            "Label:  5\n",
            "Correct!\n",
            "Prediction:  8\n",
            "Label:  8\n",
            "Correct!\n",
            "Prediction:  0\n",
            "Label:  9\n",
            "Incorrect!\n",
            "Prediction:  1\n",
            "Label:  1\n",
            "Correct!\n",
            "Prediction:  6\n",
            "Label:  6\n",
            "Correct!\n",
            "Prediction:  4\n",
            "Label:  4\n",
            "Correct!\n",
            "Prediction:  2\n",
            "Label:  3\n",
            "Incorrect!\n",
            "Prediction:  7\n",
            "Label:  7\n",
            "Correct!\n",
            "Prediction:  4\n",
            "Label:  4\n",
            "Correct!\n",
            "Prediction:  6\n",
            "Label:  6\n",
            "Correct!\n",
            "Prediction:  2\n",
            "Label:  6\n",
            "Incorrect!\n",
            "Prediction:  1\n",
            "Label:  0\n",
            "Incorrect!\n",
            "Prediction:  5\n",
            "Label:  3\n",
            "Incorrect!\n",
            "Prediction:  3\n",
            "Label:  6\n",
            "Incorrect!\n",
            "Prediction:  2\n",
            "Label:  4\n",
            "Incorrect!\n",
            "Prediction:  5\n",
            "Label:  5\n",
            "Correct!\n",
            "Prediction:  0\n",
            "Label:  4\n",
            "Incorrect!\n",
            "Prediction:  6\n",
            "Label:  6\n",
            "Correct!\n",
            "Prediction:  9\n",
            "Label:  1\n",
            "Incorrect!\n",
            "Prediction:  1\n",
            "Label:  6\n",
            "Incorrect!\n",
            "Prediction:  5\n",
            "Label:  6\n",
            "Incorrect!\n",
            "Prediction:  8\n",
            "Label:  9\n",
            "Incorrect!\n",
            "Prediction:  1\n",
            "Label:  1\n",
            "Correct!\n",
            "Prediction:  1\n",
            "Label:  1\n",
            "Correct!\n",
            "Prediction:  5\n",
            "Label:  5\n",
            "Correct!\n",
            "Prediction:  6\n",
            "Label:  6\n",
            "Correct!\n",
            "Prediction:  8\n",
            "Label:  4\n",
            "Incorrect!\n",
            "Prediction:  5\n",
            "Label:  3\n",
            "Incorrect!\n",
            "Prediction:  9\n",
            "Label:  9\n",
            "Correct!\n"
          ],
          "name": "stdout"
        }
      ]
    },
    {
      "cell_type": "code",
      "metadata": {
        "colab": {
          "base_uri": "https://localhost:8080/"
        },
        "id": "_moCw307zJNs",
        "outputId": "16c92df3-fcca-4aa4-c1c6-e92290d9d3b2"
      },
      "source": [
        "print(correct)\n",
        "print(incorrect)\n",
        "\n",
        "test_accuracy = correct[0] / (correct[0] + incorrect[0]) * 100 \n",
        "\n",
        "print(round(test_accuracy, ndigits=3), '%')"
      ],
      "execution_count": 24,
      "outputs": [
        {
          "output_type": "stream",
          "text": [
            "[55]\n",
            "[45]\n",
            "55.0 %\n"
          ],
          "name": "stdout"
        }
      ]
    },
    {
      "cell_type": "code",
      "metadata": {
        "id": "QhxIsw0i0QmN"
      },
      "source": [
        ""
      ],
      "execution_count": null,
      "outputs": []
    }
  ]
}