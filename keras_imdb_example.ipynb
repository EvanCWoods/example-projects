{
  "nbformat": 4,
  "nbformat_minor": 0,
  "metadata": {
    "colab": {
      "name": "keras-imdb-example.ipynb",
      "provenance": [],
      "authorship_tag": "ABX9TyOjk86vPlUsLsdic8Bqxy6V"
    },
    "kernelspec": {
      "name": "python3",
      "display_name": "Python 3"
    },
    "language_info": {
      "name": "python"
    }
  },
  "cells": [
    {
      "cell_type": "code",
      "metadata": {
        "id": "bMDYTYBgfUYT"
      },
      "source": [
        "import tensorflow as tf\n",
        "import numpy as np\n",
        "import random\n",
        "import pandas as pd\n",
        "import matplotlib.pyplot as plt\n",
        "from tensorflow.keras.preprocessing.text import Tokenizer\n",
        "from tensorflow.keras.preprocessing.sequence import pad_sequences"
      ],
      "execution_count": null,
      "outputs": []
    },
    {
      "cell_type": "code",
      "metadata": {
        "colab": {
          "base_uri": "https://localhost:8080/"
        },
        "id": "ya2-MgvFfznF",
        "outputId": "4ca3341a-faf6-48e5-8516-959b92a1fa20"
      },
      "source": [
        "(train_data, train_labels) , (test_data, test_labels) = tf.keras.datasets.imdb.load_data(num_words=10000)"
      ],
      "execution_count": null,
      "outputs": [
        {
          "output_type": "stream",
          "text": [
            "Downloading data from https://storage.googleapis.com/tensorflow/tf-keras-datasets/imdb.npz\n",
            "17465344/17464789 [==============================] - 0s 0us/step\n"
          ],
          "name": "stdout"
        },
        {
          "output_type": "stream",
          "text": [
            "<string>:6: VisibleDeprecationWarning: Creating an ndarray from ragged nested sequences (which is a list-or-tuple of lists-or-tuples-or ndarrays with different lengths or shapes) is deprecated. If you meant to do this, you must specify 'dtype=object' when creating the ndarray\n",
            "/usr/local/lib/python3.7/dist-packages/tensorflow/python/keras/datasets/imdb.py:155: VisibleDeprecationWarning: Creating an ndarray from ragged nested sequences (which is a list-or-tuple of lists-or-tuples-or ndarrays with different lengths or shapes) is deprecated. If you meant to do this, you must specify 'dtype=object' when creating the ndarray\n",
            "  x_train, y_train = np.array(xs[:idx]), np.array(labels[:idx])\n",
            "/usr/local/lib/python3.7/dist-packages/tensorflow/python/keras/datasets/imdb.py:156: VisibleDeprecationWarning: Creating an ndarray from ragged nested sequences (which is a list-or-tuple of lists-or-tuples-or ndarrays with different lengths or shapes) is deprecated. If you meant to do this, you must specify 'dtype=object' when creating the ndarray\n",
            "  x_test, y_test = np.array(xs[idx:]), np.array(labels[idx:])\n"
          ],
          "name": "stderr"
        }
      ]
    },
    {
      "cell_type": "code",
      "metadata": {
        "colab": {
          "base_uri": "https://localhost:8080/"
        },
        "id": "bhqAHiP3gCv2",
        "outputId": "e1922616-f78b-4253-978a-712c1247bf1d"
      },
      "source": [
        "print(train_data[0])\n",
        "print(train_labels[0])"
      ],
      "execution_count": null,
      "outputs": [
        {
          "output_type": "stream",
          "text": [
            "[1, 14, 22, 16, 43, 530, 973, 1622, 1385, 65, 458, 4468, 66, 3941, 4, 173, 36, 256, 5, 25, 100, 43, 838, 112, 50, 670, 2, 9, 35, 480, 284, 5, 150, 4, 172, 112, 167, 2, 336, 385, 39, 4, 172, 4536, 1111, 17, 546, 38, 13, 447, 4, 192, 50, 16, 6, 147, 2025, 19, 14, 22, 4, 1920, 4613, 469, 4, 22, 71, 87, 12, 16, 43, 530, 38, 76, 15, 13, 1247, 4, 22, 17, 515, 17, 12, 16, 626, 18, 2, 5, 62, 386, 12, 8, 316, 8, 106, 5, 4, 2223, 5244, 16, 480, 66, 3785, 33, 4, 130, 12, 16, 38, 619, 5, 25, 124, 51, 36, 135, 48, 25, 1415, 33, 6, 22, 12, 215, 28, 77, 52, 5, 14, 407, 16, 82, 2, 8, 4, 107, 117, 5952, 15, 256, 4, 2, 7, 3766, 5, 723, 36, 71, 43, 530, 476, 26, 400, 317, 46, 7, 4, 2, 1029, 13, 104, 88, 4, 381, 15, 297, 98, 32, 2071, 56, 26, 141, 6, 194, 7486, 18, 4, 226, 22, 21, 134, 476, 26, 480, 5, 144, 30, 5535, 18, 51, 36, 28, 224, 92, 25, 104, 4, 226, 65, 16, 38, 1334, 88, 12, 16, 283, 5, 16, 4472, 113, 103, 32, 15, 16, 5345, 19, 178, 32]\n",
            "1\n"
          ],
          "name": "stdout"
        }
      ]
    },
    {
      "cell_type": "code",
      "metadata": {
        "id": "Ycmtx9abgVZ1"
      },
      "source": [
        "vocab_size = 10000\n",
        "embedding_dims = 32\n",
        "max_len = 200"
      ],
      "execution_count": null,
      "outputs": []
    },
    {
      "cell_type": "code",
      "metadata": {
        "id": "aNHWD7pOgHqb"
      },
      "source": [
        "train_data = tf.keras.preprocessing.sequence.pad_sequences(train_data,\n",
        "                                                           maxlen=max_len,\n",
        "                                                           padding='post')\n",
        "test_data = tf.keras.preprocessing.sequence.pad_sequences(test_data,\n",
        "                                                          maxlen=max_len,\n",
        "                                                          padding='post')"
      ],
      "execution_count": null,
      "outputs": []
    },
    {
      "cell_type": "code",
      "metadata": {
        "id": "EPuitzu4hKZb"
      },
      "source": [
        "class MyCallback(tf.keras.callbacks.Callback):\n",
        "  def on_epoch_end(self, epoch, logs={}):\n",
        "    if logs.get('accuracy') > 0.97:\n",
        "      print('Stopping training.')\n",
        "      self.model.stop_training = True\n",
        "\n",
        "callback = MyCallback()"
      ],
      "execution_count": null,
      "outputs": []
    },
    {
      "cell_type": "code",
      "metadata": {
        "colab": {
          "base_uri": "https://localhost:8080/"
        },
        "id": "g35up_Caghop",
        "outputId": "e1baa08e-f393-448a-b3f0-136dfb9693ab"
      },
      "source": [
        "model = tf.keras.Sequential([\n",
        "  tf.keras.layers.Embedding(vocab_size, embedding_dims, input_length=max_len, name='embedding'),\n",
        "  tf.keras.layers.Bidirectional(tf.keras.layers.LSTM(64, return_sequences=True)),\n",
        "  tf.keras.layers.Bidirectional(tf.keras.layers.LSTM(64)),\n",
        "  tf.keras.layers.Dense(64, activation='relu'),\n",
        "  tf.keras.layers.Dense(32, activation='relu'),\n",
        "  tf.keras.layers.Dense(1, activation='sigmoid')\n",
        "])\n",
        "\n",
        "model.compile(loss='binary_crossentropy',\n",
        "              optimizer='adam',\n",
        "              metrics=['accuracy'])\n",
        "\n",
        "history = model.fit(train_data, train_labels, epochs=5, callbacks=[callback])"
      ],
      "execution_count": null,
      "outputs": [
        {
          "output_type": "stream",
          "text": [
            "Epoch 1/5\n",
            "782/782 [==============================] - 335s 421ms/step - loss: 0.4543 - accuracy: 0.7764\n",
            "Epoch 2/5\n",
            "782/782 [==============================] - 324s 415ms/step - loss: 0.2746 - accuracy: 0.8949\n",
            "Epoch 3/5\n",
            "782/782 [==============================] - 338s 432ms/step - loss: 0.2059 - accuracy: 0.9240\n",
            "Epoch 4/5\n",
            "782/782 [==============================] - 335s 429ms/step - loss: 0.1806 - accuracy: 0.9362\n",
            "Epoch 5/5\n",
            "782/782 [==============================] - 336s 430ms/step - loss: 0.1303 - accuracy: 0.9541\n"
          ],
          "name": "stdout"
        }
      ]
    },
    {
      "cell_type": "code",
      "metadata": {
        "id": "SnwlP-TnhgN4"
      },
      "source": [
        "correct = [0]\n",
        "incorrect = [0]\n",
        "\n",
        "def predict(review, label):\n",
        "\n",
        "  review = review.reshape(200, 1)\n",
        "  prediction = model.predict(review)\n",
        "\n",
        "  if prediction.argmax() < 0.5:\n",
        "    prediction = 0\n",
        "  else:\n",
        "    prediction = 1\n",
        "\n",
        "  print('prediction: ', prediction)\n",
        "  print('Label: ', label)\n",
        "\n",
        "  if prediction - label == 0:\n",
        "    print('Correct!')\n",
        "    correct[0] +=1\n",
        "  else:\n",
        "    print('Incorrect!')\n",
        "    incorrect[0] +=1"
      ],
      "execution_count": null,
      "outputs": []
    },
    {
      "cell_type": "code",
      "metadata": {
        "colab": {
          "base_uri": "https://localhost:8080/"
        },
        "id": "EMi8nI_BpD3o",
        "outputId": "f77196b5-7279-4dfc-9865-b1e3d547ea1b"
      },
      "source": [
        "i = random.randint(0, len(test_data) - 1)\n",
        "for n in range(100):\n",
        "  predict(review=test_data[i], label=test_labels[i])"
      ],
      "execution_count": null,
      "outputs": [
        {
          "output_type": "stream",
          "text": [
            "prediction:  0\n",
            "Label:  1\n",
            "Incorrect!\n",
            "prediction:  0\n",
            "Label:  1\n",
            "Incorrect!\n",
            "prediction:  0\n",
            "Label:  1\n",
            "Incorrect!\n",
            "prediction:  0\n",
            "Label:  1\n",
            "Incorrect!\n",
            "prediction:  0\n",
            "Label:  1\n",
            "Incorrect!\n",
            "prediction:  0\n",
            "Label:  1\n",
            "Incorrect!\n",
            "prediction:  0\n",
            "Label:  1\n",
            "Incorrect!\n",
            "prediction:  0\n",
            "Label:  1\n",
            "Incorrect!\n",
            "prediction:  0\n",
            "Label:  1\n",
            "Incorrect!\n",
            "prediction:  0\n",
            "Label:  1\n",
            "Incorrect!\n",
            "prediction:  0\n",
            "Label:  1\n",
            "Incorrect!\n",
            "prediction:  0\n",
            "Label:  1\n",
            "Incorrect!\n",
            "prediction:  0\n",
            "Label:  1\n",
            "Incorrect!\n",
            "prediction:  0\n",
            "Label:  1\n",
            "Incorrect!\n",
            "prediction:  0\n",
            "Label:  1\n",
            "Incorrect!\n",
            "prediction:  0\n",
            "Label:  1\n",
            "Incorrect!\n",
            "prediction:  0\n",
            "Label:  1\n",
            "Incorrect!\n",
            "prediction:  0\n",
            "Label:  1\n",
            "Incorrect!\n",
            "prediction:  0\n",
            "Label:  1\n",
            "Incorrect!\n",
            "prediction:  0\n",
            "Label:  1\n",
            "Incorrect!\n",
            "prediction:  0\n",
            "Label:  1\n",
            "Incorrect!\n",
            "prediction:  0\n",
            "Label:  1\n",
            "Incorrect!\n",
            "prediction:  0\n",
            "Label:  1\n",
            "Incorrect!\n",
            "prediction:  0\n",
            "Label:  1\n",
            "Incorrect!\n",
            "prediction:  0\n",
            "Label:  1\n",
            "Incorrect!\n",
            "prediction:  0\n",
            "Label:  1\n",
            "Incorrect!\n",
            "prediction:  0\n",
            "Label:  1\n",
            "Incorrect!\n",
            "prediction:  0\n",
            "Label:  1\n",
            "Incorrect!\n",
            "prediction:  0\n",
            "Label:  1\n",
            "Incorrect!\n",
            "prediction:  0\n",
            "Label:  1\n",
            "Incorrect!\n",
            "prediction:  0\n",
            "Label:  1\n",
            "Incorrect!\n",
            "prediction:  0\n",
            "Label:  1\n",
            "Incorrect!\n",
            "prediction:  0\n",
            "Label:  1\n",
            "Incorrect!\n",
            "prediction:  0\n",
            "Label:  1\n",
            "Incorrect!\n",
            "prediction:  0\n",
            "Label:  1\n",
            "Incorrect!\n",
            "prediction:  0\n",
            "Label:  1\n",
            "Incorrect!\n",
            "prediction:  0\n",
            "Label:  1\n",
            "Incorrect!\n",
            "prediction:  0\n",
            "Label:  1\n",
            "Incorrect!\n",
            "prediction:  0\n",
            "Label:  1\n",
            "Incorrect!\n",
            "prediction:  0\n",
            "Label:  1\n",
            "Incorrect!\n",
            "prediction:  0\n",
            "Label:  1\n",
            "Incorrect!\n",
            "prediction:  0\n",
            "Label:  1\n",
            "Incorrect!\n",
            "prediction:  0\n",
            "Label:  1\n",
            "Incorrect!\n",
            "prediction:  0\n",
            "Label:  1\n",
            "Incorrect!\n",
            "prediction:  0\n",
            "Label:  1\n",
            "Incorrect!\n",
            "prediction:  0\n",
            "Label:  1\n",
            "Incorrect!\n",
            "prediction:  0\n",
            "Label:  1\n",
            "Incorrect!\n",
            "prediction:  0\n",
            "Label:  1\n",
            "Incorrect!\n",
            "prediction:  0\n",
            "Label:  1\n",
            "Incorrect!\n",
            "prediction:  0\n",
            "Label:  1\n",
            "Incorrect!\n",
            "prediction:  0\n",
            "Label:  1\n",
            "Incorrect!\n",
            "prediction:  0\n",
            "Label:  1\n",
            "Incorrect!\n",
            "prediction:  0\n",
            "Label:  1\n",
            "Incorrect!\n",
            "prediction:  0\n",
            "Label:  1\n",
            "Incorrect!\n",
            "prediction:  0\n",
            "Label:  1\n",
            "Incorrect!\n",
            "prediction:  0\n",
            "Label:  1\n",
            "Incorrect!\n",
            "prediction:  0\n",
            "Label:  1\n",
            "Incorrect!\n",
            "prediction:  0\n",
            "Label:  1\n",
            "Incorrect!\n",
            "prediction:  0\n",
            "Label:  1\n",
            "Incorrect!\n",
            "prediction:  0\n",
            "Label:  1\n",
            "Incorrect!\n",
            "prediction:  0\n",
            "Label:  1\n",
            "Incorrect!\n",
            "prediction:  0\n",
            "Label:  1\n",
            "Incorrect!\n",
            "prediction:  0\n",
            "Label:  1\n",
            "Incorrect!\n",
            "prediction:  0\n",
            "Label:  1\n",
            "Incorrect!\n",
            "prediction:  0\n",
            "Label:  1\n",
            "Incorrect!\n",
            "prediction:  0\n",
            "Label:  1\n",
            "Incorrect!\n",
            "prediction:  0\n",
            "Label:  1\n",
            "Incorrect!\n",
            "prediction:  0\n",
            "Label:  1\n",
            "Incorrect!\n",
            "prediction:  0\n",
            "Label:  1\n",
            "Incorrect!\n",
            "prediction:  0\n",
            "Label:  1\n",
            "Incorrect!\n",
            "prediction:  0\n",
            "Label:  1\n",
            "Incorrect!\n",
            "prediction:  0\n",
            "Label:  1\n",
            "Incorrect!\n",
            "prediction:  0\n",
            "Label:  1\n",
            "Incorrect!\n",
            "prediction:  0\n",
            "Label:  1\n",
            "Incorrect!\n",
            "prediction:  0\n",
            "Label:  1\n",
            "Incorrect!\n",
            "prediction:  0\n",
            "Label:  1\n",
            "Incorrect!\n",
            "prediction:  0\n",
            "Label:  1\n",
            "Incorrect!\n",
            "prediction:  0\n",
            "Label:  1\n",
            "Incorrect!\n",
            "prediction:  0\n",
            "Label:  1\n",
            "Incorrect!\n",
            "prediction:  0\n",
            "Label:  1\n",
            "Incorrect!\n",
            "prediction:  0\n",
            "Label:  1\n",
            "Incorrect!\n",
            "prediction:  0\n",
            "Label:  1\n",
            "Incorrect!\n",
            "prediction:  0\n",
            "Label:  1\n",
            "Incorrect!\n",
            "prediction:  0\n",
            "Label:  1\n",
            "Incorrect!\n",
            "prediction:  0\n",
            "Label:  1\n",
            "Incorrect!\n",
            "prediction:  0\n",
            "Label:  1\n",
            "Incorrect!\n",
            "prediction:  0\n",
            "Label:  1\n",
            "Incorrect!\n",
            "prediction:  0\n",
            "Label:  1\n",
            "Incorrect!\n",
            "prediction:  0\n",
            "Label:  1\n",
            "Incorrect!\n",
            "prediction:  0\n",
            "Label:  1\n",
            "Incorrect!\n",
            "prediction:  0\n",
            "Label:  1\n",
            "Incorrect!\n",
            "prediction:  0\n",
            "Label:  1\n",
            "Incorrect!\n",
            "prediction:  0\n",
            "Label:  1\n",
            "Incorrect!\n",
            "prediction:  0\n",
            "Label:  1\n",
            "Incorrect!\n",
            "prediction:  0\n",
            "Label:  1\n",
            "Incorrect!\n",
            "prediction:  0\n",
            "Label:  1\n",
            "Incorrect!\n",
            "prediction:  0\n",
            "Label:  1\n",
            "Incorrect!\n",
            "prediction:  0\n",
            "Label:  1\n",
            "Incorrect!\n",
            "prediction:  0\n",
            "Label:  1\n",
            "Incorrect!\n",
            "prediction:  0\n",
            "Label:  1\n",
            "Incorrect!\n"
          ],
          "name": "stdout"
        }
      ]
    },
    {
      "cell_type": "code",
      "metadata": {
        "colab": {
          "base_uri": "https://localhost:8080/"
        },
        "id": "9AJoX0r6slQC",
        "outputId": "7933f0db-4a7b-4a5c-b3ed-2e75c9879c9c"
      },
      "source": [
        "print(correct)\n",
        "print(incorrect)"
      ],
      "execution_count": null,
      "outputs": [
        {
          "output_type": "stream",
          "text": [
            "[44]\n",
            "[125]\n"
          ],
          "name": "stdout"
        }
      ]
    },
    {
      "cell_type": "code",
      "metadata": {
        "colab": {
          "base_uri": "https://localhost:8080/"
        },
        "id": "Abv6_WWJs1PI",
        "outputId": "8667d415-61ad-4b22-b263-9d0c84e4c3c0"
      },
      "source": [
        "test_accuracy = round(correct[0] / (correct[0] + incorrect[0]), ndigits=2)\n",
        "test_accuracy"
      ],
      "execution_count": null,
      "outputs": [
        {
          "output_type": "execute_result",
          "data": {
            "text/plain": [
              "0.26"
            ]
          },
          "metadata": {
            "tags": []
          },
          "execution_count": 222
        }
      ]
    },
    {
      "cell_type": "code",
      "metadata": {
        "id": "XoNtqRO-7L6T"
      },
      "source": [
        ""
      ],
      "execution_count": null,
      "outputs": []
    }
  ]
}